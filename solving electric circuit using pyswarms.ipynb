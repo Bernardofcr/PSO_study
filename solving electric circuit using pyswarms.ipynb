{
 "cells": [
  {
   "cell_type": "code",
   "execution_count": 1,
   "id": "cc301677",
   "metadata": {},
   "outputs": [],
   "source": [
    "import sys\n",
    "import numpy as np\n",
    "import matplotlib.pyplot as plt\n",
    "\n",
    "import pyswarms as ps\n",
    "from pyswarms.utils.plotters import (plot_cost_history, plot_contour, plot_surface)"
   ]
  },
  {
   "cell_type": "code",
   "execution_count": 2,
   "id": "3e7f8e99",
   "metadata": {},
   "outputs": [],
   "source": [
    "def cost_function(I):\n",
    "    U=10\n",
    "    R=100\n",
    "    I_s=9.4e-12\n",
    "    v_t=25.85e-3\n",
    "    \n",
    "    c = abs(U - v_t * np.log(abs(I[:,0]/I_s)) - R * I[:,0])\n",
    "    return c"
   ]
  },
  {
   "cell_type": "code",
   "execution_count": 13,
   "id": "a10a40f8",
   "metadata": {},
   "outputs": [
    {
     "name": "stdout",
     "output_type": "stream",
     "text": [
      "6.65 ms ± 102 µs per loop (mean ± std. dev. of 3 runs, 1,000 loops each)\n"
     ]
    }
   ],
   "source": [
    "%%timeit -r 3 -n 1000\n",
    "#hyperparameters set-up\n",
    "options = {\n",
    "    \"c1\":.5,\n",
    "    \"c2\":.3,\n",
    "    \"w\":.3\n",
    "}\n",
    "\n",
    "#call instance of PSO\n",
    "optimizer = ps.single.GlobalBestPSO(\n",
    "    n_particles = 10,\n",
    "    dimensions = 1,\n",
    "    options = options\n",
    ")\n",
    "\n",
    "#perform optimization\n",
    "cost, pos = optimizer.optimize(\n",
    "    cost_function, \n",
    "    iters=30, \n",
    "    verbose=False\n",
    ")"
   ]
  },
  {
   "cell_type": "code",
   "execution_count": 14,
   "id": "2872f3e1",
   "metadata": {},
   "outputs": [
    {
     "name": "stderr",
     "output_type": "stream",
     "text": [
      "2023-04-05 12:29:55,800 - pyswarms.single.global_best - INFO - Optimize for 30 iters with {'c1': 0.5, 'c2': 0.3, 'w': 0.3}\n",
      "pyswarms.single.global_best: 100%|█████████████████████|30/30, best_cost=0.00215\n",
      "2023-04-05 12:29:55,832 - pyswarms.single.global_best - INFO - Optimization finished | best cost: 0.002151637233987813, best pos: [0.09402623]\n"
     ]
    }
   ],
   "source": [
    "#hyperparameters set-up\n",
    "options = {\n",
    "    \"c1\":.5,\n",
    "    \"c2\":.3,\n",
    "    \"w\":.3\n",
    "}\n",
    "\n",
    "#call instance of PSO\n",
    "optimizer = ps.single.GlobalBestPSO(\n",
    "    n_particles = 10,\n",
    "    dimensions = 1,\n",
    "    options = options\n",
    ")\n",
    "\n",
    "#perform optimization\n",
    "cost, pos = optimizer.optimize(cost_function, iters=30)"
   ]
  },
  {
   "cell_type": "code",
   "execution_count": 15,
   "id": "74ae860f",
   "metadata": {},
   "outputs": [
    {
     "name": "stdout",
     "output_type": "stream",
     "text": [
      "0.09402622904246515\n"
     ]
    }
   ],
   "source": [
    "print(pos[0])"
   ]
  },
  {
   "cell_type": "code",
   "execution_count": 16,
   "id": "9afe9283",
   "metadata": {},
   "outputs": [
    {
     "name": "stdout",
     "output_type": "stream",
     "text": [
      "0.002151637233987813\n"
     ]
    }
   ],
   "source": [
    "print(cost)"
   ]
  },
  {
   "cell_type": "code",
   "execution_count": 17,
   "id": "0f06e8d6",
   "metadata": {},
   "outputs": [
    {
     "data": {
      "image/png": "[encoded data removed]",
      "text/plain": [
       "<Figure size 720x576 with 1 Axes>"
      ]
     },
     "metadata": {
      "needs_background": "light"
     },
     "output_type": "display_data"
    }
   ],
   "source": [
    "plot_cost_history(cost_history=optimizer.cost_history)\n",
    "plt.show()"
   ]
  },
  {
   "cell_type": "code",
   "execution_count": 8,
   "id": "54ad76a3",
   "metadata": {},
   "outputs": [
    {
     "data": {
      "text/plain": [
       "Text(0, 0.5, 'Cost')"
      ]
     },
     "execution_count": 8,
     "metadata": {},
     "output_type": "execute_result"
    },
    {
     "data": {
      "image/png": "[encoded data removed]",
      "text/plain": [
       "<Figure size 432x288 with 1 Axes>"
      ]
     },
     "metadata": {
      "needs_background": "light"
     },
     "output_type": "display_data"
    }
   ],
   "source": [
    "x = np.linspace(0.001, 0.1, 100).reshape(100,1)\n",
    "y = cost_function(x)\n",
    "\n",
    "plt.plot(x,y)\n",
    "plt.xlabel(\"Current I [A]\")\n",
    "plt.ylabel(\"Cost\")"
   ]
  },
  {
   "cell_type": "code",
   "execution_count": 9,
   "id": "e1eb013f",
   "metadata": {},
   "outputs": [],
   "source": [
    "from scipy.optimize import fsolve"
   ]
  },
  {
   "cell_type": "code",
   "execution_count": 12,
   "id": "80969e21",
   "metadata": {},
   "outputs": [
    {
     "name": "stdout",
     "output_type": "stream",
     "text": [
      "80.1 µs ± 3.21 µs per loop (mean ± std. dev. of 3 runs, 1,000 loops each)\n"
     ]
    }
   ],
   "source": [
    "%%timeit -r 3 -n 1000\n",
    "c = lambda I: abs(10 - 25.85e-3 * np.log(abs(I / 9.4e-12)) - 100 * I)\n",
    "\n",
    "initial_guess = 0.09\n",
    "\n",
    "current_I = fsolve(func=c, x0=initial_guess)\n",
    "\n",
    "#print(current_I[0])"
   ]
  },
  {
   "cell_type": "code",
   "execution_count": 23,
   "id": "c447fe9a",
   "metadata": {},
   "outputs": [
    {
     "name": "stdout",
     "output_type": "stream",
     "text": [
      "0.09404768643017938\n"
     ]
    }
   ],
   "source": [
    "c = lambda I: abs(10 - 25.85e-3 * np.log(abs(I / 9.4e-12)) - 100 * I)\n",
    "\n",
    "initial_guess = .09\n",
    "\n",
    "current_I = fsolve(func=c, x0=initial_guess)\n",
    "\n",
    "print(current_I[0])"
   ]
  },
  {
   "cell_type": "code",
   "execution_count": null,
   "id": "c891426f",
   "metadata": {},
   "outputs": [],
   "source": []
  }
 ],
 "metadata": {
  "kernelspec": {
   "display_name": "Python 3 (ipykernel)",
   "language": "python",
   "name": "python3"
  },
  "language_info": {
   "codemirror_mode": {
    "name": "ipython",
    "version": 3
   },
   "file_extension": ".py",
   "mimetype": "text/x-python",
   "name": "python",
   "nbconvert_exporter": "python",
   "pygments_lexer": "ipython3",
   "version": "3.10.6"
  }
 },
 "nbformat": 4,
 "nbformat_minor": 5
}
